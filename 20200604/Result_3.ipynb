{
 "cells": [
  {
   "cell_type": "markdown",
   "metadata": {},
   "source": [
    "# Result 3/3の議論が正しいか自信が持てないので考察する\n",
    "論文では標準偏差の差が$\\Delta V_{max}$が$\\Delta CI$より大きいため、$\\Delta V_{max}$は2005年以前と2006年以降で分布の変わり方が大きいと書かれている。しかし、そもそもの$\\Delta V_{max}$と$\\Delta CI$のデータの分布のスケールが違うため、そのように単純比較はできないのではないかと考える。そこで、"
   ]
  },
  {
   "cell_type": "code",
   "execution_count": 1,
   "metadata": {},
   "outputs": [],
   "source": [
    "import numpy as np\n",
    "import matplotlib.pyplot as plt\n",
    "%matplotlib inline"
   ]
  },
  {
   "cell_type": "markdown",
   "metadata": {},
   "source": [
    "## データa.平均：$\\mu = 0$, 分散：$\\sigma = 1$\n",
    "条件をできるだけ同じにするために乱数の生成はseed値を42に固定し、ヒストグラムの分布も見かけは全く同じになるようにする。  \n",
    "aのデータは平均$\\mu = 0$, 分散$\\sigma = 1$の乱数を生成している。  \n",
    "aのデータは$\\Delta CI$ を想定している。"
   ]
  },
  {
   "cell_type": "code",
   "execution_count": 137,
   "metadata": {},
   "outputs": [],
   "source": [
    "np.random.seed(42)\n",
    "a1 = np.random.normal(0, 1, 200)\n",
    "a2 = np.random.normal(0, 1, 200)"
   ]
  },
  {
   "cell_type": "markdown",
   "metadata": {},
   "source": [
    "a1とa2の標準偏差の値は以下のようになった。"
   ]
  },
  {
   "cell_type": "code",
   "execution_count": 138,
   "metadata": {},
   "outputs": [
    {
     "name": "stdout",
     "output_type": "stream",
     "text": [
      "0.9286734887354713 0.9845332093724294 0.0558597206369581\n"
     ]
    }
   ],
   "source": [
    "print(np.sqrt(np.var(a1)), np.sqrt(np.var(a2)), np.abs(np.sqrt(np.var(a1))-np.sqrt(np.var(a2))))"
   ]
  },
  {
   "cell_type": "code",
   "execution_count": 139,
   "metadata": {},
   "outputs": [
    {
     "data": {
      "image/png": "[encoded data removed]",
      "text/plain": [
       "<Figure size 432x288 with 1 Axes>"
      ]
     },
     "metadata": {
      "needs_background": "light"
     },
     "output_type": "display_data"
    }
   ],
   "source": [
    "plt.hist(a1, bins=13, alpha=0.6, label='a1: $\\sigma _1 = ${:.3f}'.format(np.sqrt(np.var(a1))))\n",
    "plt.hist(a2, bins=13, alpha=0.6, label='a2: $\\sigma _2= ${:.3f}'.format(np.sqrt(np.var(a2))))\n",
    "plt.xlabel('x1 scale')\n",
    "plt.ylabel('the numbers of a')\n",
    "plt.legend()\n",
    "plt.show()"
   ]
  },
  {
   "cell_type": "markdown",
   "metadata": {},
   "source": [
    "## データb. 平均：$\\mu = 0$, 分散：$\\sigma = 20$\n",
    "bのデータは平均$\\mu = 0$, 分散$\\sigma = 1 \\times 20 = 20$の乱数を生成している。  \n",
    "bのデータは$\\Delta V_{max}$ を想定している。"
   ]
  },
  {
   "cell_type": "code",
   "execution_count": 148,
   "metadata": {},
   "outputs": [],
   "source": [
    "np.random.seed(42)\n",
    "b1 = np.random.normal(0, 1*20, 200)\n",
    "b2 = np.random.normal(0, 1*20, 200)"
   ]
  },
  {
   "cell_type": "code",
   "execution_count": 149,
   "metadata": {},
   "outputs": [
    {
     "name": "stdout",
     "output_type": "stream",
     "text": [
      "18.57346977470943 19.690664187448586 1.1171944127391562\n"
     ]
    }
   ],
   "source": [
    "print(np.sqrt(np.var(b1)), np.sqrt(np.var(b2)), np.abs(np.sqrt(np.var(b1))-np.sqrt(np.var(b2))))"
   ]
  },
  {
   "cell_type": "code",
   "execution_count": 150,
   "metadata": {},
   "outputs": [
    {
     "data": {
      "image/png": "[encoded data removed]",
      "text/plain": [
       "<Figure size 432x288 with 1 Axes>"
      ]
     },
     "metadata": {
      "needs_background": "light"
     },
     "output_type": "display_data"
    }
   ],
   "source": [
    "plt.hist(b1, bins=13, alpha=0.6, label='b1: $\\sigma _1 = ${:.3f}'.format(np.sqrt(np.var(b1))))\n",
    "plt.hist(b2, bins=13, alpha=0.6, label='b2: $\\sigma _2 = ${:.3f}'.format(np.sqrt(np.var(b2))))\n",
    "plt.xlabel('x20 scale')\n",
    "plt.ylabel('the numbers of b')\n",
    "plt.legend()\n",
    "plt.show()"
   ]
  },
  {
   "cell_type": "markdown",
   "metadata": {},
   "source": [
    "## 考察\n",
    "b1, b2の標準偏差はそれぞれa1, a2の標準偏差の20倍で平均値は同じである。もし標準偏差の差だけを考慮すると、bがよりデータの散らばり(スケール)が大きいためb1とb2で差が大きくなるという結果は当然である。論文で比較してある$\\Delta V_{max}$と$\\Delta CI$も標準偏差の差だけで結論づけられているような状態である（著者は両側F検定で十分との考えかも知れないが、仮説検定の値は論文中には出てきていないため、論文を読んだだけの人間には納得できない部分があると思われる）。そのため、比較するためにはただ差をとるだけではなく、例えば2005年以前と2006年以降の標準偏差の差が2005年以前の標準偏差の値の何％にあたるかや、2005年以前の$\\Delta CI$と$\\Delta V_{max}$の標準偏差の比と2006年以降の$\\Delta CI$と$\\Delta V_{max}$の標準偏差の比を比べるなど、別の側面からもこの結果を考察すべきだろう。もしこのような記述があれば、$\\Delta V_{max}$の2005年以前と2006年以降の標準偏差の差が大きいという結果をすんなりと受け入れられるものになったのではないだろうか。"
   ]
  },
  {
   "cell_type": "code",
   "execution_count": null,
   "metadata": {},
   "outputs": [],
   "source": []
  }
 ],
 "metadata": {
  "kernelspec": {
   "display_name": "Python 3",
   "language": "python",
   "name": "python3"
  },
  "language_info": {
   "codemirror_mode": {
    "name": "ipython",
    "version": 3
   },
   "file_extension": ".py",
   "mimetype": "text/x-python",
   "name": "python",
   "nbconvert_exporter": "python",
   "pygments_lexer": "ipython3",
   "version": "3.7.7"
  }
 },
 "nbformat": 4,
 "nbformat_minor": 4
}
