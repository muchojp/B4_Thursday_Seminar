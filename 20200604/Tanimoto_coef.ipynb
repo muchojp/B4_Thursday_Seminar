{
 "cells": [
  {
   "cell_type": "markdown",
   "metadata": {},
   "source": [
    "# Tanimoto coefficient のPythonでの実装"
   ]
  },
  {
   "cell_type": "markdown",
   "metadata": {},
   "source": [
    "NumPyパッケージのインポート"
   ]
  },
  {
   "cell_type": "code",
   "execution_count": 81,
   "metadata": {},
   "outputs": [],
   "source": [
    "import numpy as np"
   ]
  },
  {
   "cell_type": "markdown",
   "metadata": {},
   "source": [
    "seed=1としているが、これは、乱数が生成される値を固定するためである  \n",
    "いろいろ試したい方は、以下のコードをコメントアウトして（コードの前に\"<b> # </b>\"を書いて）実行してください"
   ]
  },
  {
   "cell_type": "code",
   "execution_count": 82,
   "metadata": {},
   "outputs": [],
   "source": [
    "np.random.seed(seed=1)"
   ]
  },
  {
   "cell_type": "markdown",
   "metadata": {},
   "source": [
    "正解のラベルと予測値をそれぞれ $F_{GT}$, $F_{PRED}$ とする  \n",
    "今回は乱数で0または1値をもつ $ (3 \\times 3) $ の行列を生成した"
   ]
  },
  {
   "cell_type": "code",
   "execution_count": 83,
   "metadata": {},
   "outputs": [],
   "source": [
    "F_GT_0 = np.random.randint(0, 2, (3, 3))\n",
    "F_PRED_0 = np.random.randint(0, 2, (3, 3))"
   ]
  },
  {
   "cell_type": "code",
   "execution_count": 86,
   "metadata": {},
   "outputs": [
    {
     "name": "stdout",
     "output_type": "stream",
     "text": [
      "[[1 1 0]\n",
      " [0 1 1]\n",
      " [1 1 1]]\n",
      "[[0 0 1]\n",
      " [0 1 1]\n",
      " [0 0 1]]\n"
     ]
    }
   ],
   "source": [
    "print(F_GT_0)\n",
    "print(F_PRED_0)"
   ]
  },
  {
   "cell_type": "markdown",
   "metadata": {},
   "source": [
    "Expected Answer:  \n",
    "$ F_{GT} $ :\n",
    "$$\n",
    "\\begin{pmatrix}\n",
    "1 & 1 & 0 \\\\\n",
    "0 & 1 & 1 \\\\\n",
    "1 & 1 & 1\n",
    "\\end{pmatrix}\n",
    "$$\n",
    "$ F_{PRED} $ :\n",
    "$$\n",
    "\\begin{pmatrix}\n",
    "0 & 0 & 1 \\\\\n",
    "0 & 1 & 1 \\\\\n",
    "0 & 0 & 1\n",
    "\\end{pmatrix}\n",
    "$$"
   ]
  },
  {
   "cell_type": "code",
   "execution_count": 87,
   "metadata": {},
   "outputs": [
    {
     "name": "stdout",
     "output_type": "stream",
     "text": [
      "行列の形 :  (3, 3)\n",
      "行列の形 :  (3, 3)\n"
     ]
    }
   ],
   "source": [
    "print('行列の形 : ', F_GT_0.shape)\n",
    "print('行列の形 : ', F_PRED_0.shape)"
   ]
  },
  {
   "cell_type": "markdown",
   "metadata": {},
   "source": [
    "表形式でまとめると、以下のようになる\n",
    "\n",
    "| | GT_True | GT_False | Sum |\n",
    "| - | - | - | - |\n",
    "| **PRED_True** | 3 | 1 | 4 |\n",
    "|**PRED_False** | 4 | 1 | 5 |\n",
    "| **Sum** | 7 | 2 | 9|"
   ]
  },
  {
   "cell_type": "markdown",
   "metadata": {},
   "source": [
    "---\n",
    "## Tanimoto coefficient\n",
    "U-Netの損失関数として定義されているTanimoto coefficientは以下のような式である\n",
    "\n",
    ">$$\n",
    "Loss = 1 \\times T_C(F_{GT}, F_{PRED})  \\\\\n",
    "T_C(F_{GT}, F_{PRED}) = {F_{GT} \\cdot F_{PRED}} / {(|F_{GT}|^2 + |F_{PRED}|^2 - F_{GT} \\cdot F_{PRED})}\n",
    "$$\n",
    "\n",
    "下記がTanimoto coefficientをPythonで実装したものである"
   ]
  },
  {
   "cell_type": "code",
   "execution_count": 67,
   "metadata": {},
   "outputs": [],
   "source": [
    "def Tanimoto_coef(gt, pred):\n",
    "    coef = np.dot(gt, pred)/(np.dot(gt, gt)+np.dot(pred, pred)-np.dot(gt, pred))\n",
    "    return coef"
   ]
  },
  {
   "cell_type": "markdown",
   "metadata": {},
   "source": [
    "先ほど生成した$ F_{GT} $, $ F_{PRED} $のTanimoto coefficientを計算するために、１次元配列に形を整える"
   ]
  },
  {
   "cell_type": "code",
   "execution_count": 69,
   "metadata": {},
   "outputs": [
    {
     "name": "stdout",
     "output_type": "stream",
     "text": [
      "[1 1 0 0 1 1 1 1 1]\n",
      "[0 0 1 0 1 1 0 0 1]\n"
     ]
    }
   ],
   "source": [
    "F_GT = F_GT_0.reshape([-1])\n",
    "F_PRED = F_PRED_0.reshape([-1])\n",
    "print(F_GT)\n",
    "print(F_PRED)"
   ]
  },
  {
   "cell_type": "markdown",
   "metadata": {},
   "source": [
    "生成した１次元配列をTanimoto coefficient関数に代入して計算"
   ]
  },
  {
   "cell_type": "code",
   "execution_count": 70,
   "metadata": {},
   "outputs": [
    {
     "data": {
      "text/plain": [
       "0.375"
      ]
     },
     "execution_count": 70,
     "metadata": {},
     "output_type": "execute_result"
    }
   ],
   "source": [
    "T_C = Tanimoto_coef(F_GT, F_PRED)\n",
    "T_C"
   ]
  },
  {
   "cell_type": "markdown",
   "metadata": {},
   "source": [
    "なお、Tanimoto coefficientを手計算すると 3/(7+4-3) = 3/(11-3) = 3/8 = 0.375となり、上の値と一致する  \n",
    "また、すべて間違った場合と正解した場合は以下のようになり、確かに **[0, 1]** の範囲である"
   ]
  },
  {
   "cell_type": "code",
   "execution_count": 72,
   "metadata": {},
   "outputs": [
    {
     "name": "stdout",
     "output_type": "stream",
     "text": [
      "[0 0 0 0 0 0 0 0 0]\n",
      "[1 1 1 1 1 1 1 1 1]\n"
     ]
    }
   ],
   "source": [
    "TMP_0 = np.zeros(9).astype(int)\n",
    "TMP_1 = np.ones(9).astype(int)\n",
    "print(TMP_0)\n",
    "print(TMP_1)"
   ]
  },
  {
   "cell_type": "code",
   "execution_count": 73,
   "metadata": {},
   "outputs": [
    {
     "name": "stdout",
     "output_type": "stream",
     "text": [
      "0.0\n"
     ]
    }
   ],
   "source": [
    "# 正解はすべて0、予測はすべて1\n",
    "print(Tanimoto_coef(TMP_0, TMP_1))"
   ]
  },
  {
   "cell_type": "code",
   "execution_count": 74,
   "metadata": {},
   "outputs": [
    {
     "name": "stdout",
     "output_type": "stream",
     "text": [
      "0.0\n"
     ]
    }
   ],
   "source": [
    "# 正解はすべて1、予測はすべて0\n",
    "print(Tanimoto_coef(TMP_1, TMP_0))"
   ]
  },
  {
   "cell_type": "code",
   "execution_count": 76,
   "metadata": {},
   "outputs": [
    {
     "name": "stdout",
     "output_type": "stream",
     "text": [
      "1.0\n"
     ]
    }
   ],
   "source": [
    "# 正解も予測も1\n",
    "print(Tanimoto_coef(TMP_1, TMP_1))"
   ]
  },
  {
   "cell_type": "markdown",
   "metadata": {},
   "source": [
    "なお、すべての正解のラベルと予測値が0の場合、Warningとなる(関数はnanを返す)"
   ]
  },
  {
   "cell_type": "code",
   "execution_count": 77,
   "metadata": {},
   "outputs": [
    {
     "name": "stdout",
     "output_type": "stream",
     "text": [
      "nan\n"
     ]
    },
    {
     "name": "stderr",
     "output_type": "stream",
     "text": [
      "C:\\Users\\yuuki\\anaconda3\\lib\\site-packages\\ipykernel_launcher.py:2: RuntimeWarning: invalid value encountered in long_scalars\n",
      "  \n"
     ]
    }
   ],
   "source": [
    "# 正解も予測も0\n",
    "print(Tanimoto_coef(TMP_0, TMP_0))"
   ]
  },
  {
   "cell_type": "code",
   "execution_count": null,
   "metadata": {},
   "outputs": [],
   "source": []
  }
 ],
 "metadata": {
  "kernelspec": {
   "display_name": "Python 3",
   "language": "python",
   "name": "python3"
  },
  "language_info": {
   "codemirror_mode": {
    "name": "ipython",
    "version": 3
   },
   "file_extension": ".py",
   "mimetype": "text/x-python",
   "name": "python",
   "nbconvert_exporter": "python",
   "pygments_lexer": "ipython3",
   "version": "3.7.6"
  }
 },
 "nbformat": 4,
 "nbformat_minor": 4
}
